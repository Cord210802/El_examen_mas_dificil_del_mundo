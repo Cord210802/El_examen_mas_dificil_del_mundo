{
 "cells": [
  {
   "cell_type": "markdown",
   "metadata": {},
   "source": [
    "\\begin{equation*}\n",
    "\\begin{array}{ccc}\n",
    "\\text{Carla Reyes} & \\text{Jerónimo Deli} & \\text{Jaime Uria} \\\\\n",
    "\\text{Frida Márquez} & \\text{Andrés Schafler} & \\text{Aranza Ibarra} \\\\\n",
    "\\text{Javier Alexis Lopez} & \\text{Armando Limón} & \\text{Gustavo Escobar} \\\\\n",
    "\\text{Victor Hugo Esparza} & \\text{Manuel McCadden} & \\text{Diego García-Gayou} \\\\\n",
    "\\text{Maria José Velázquez} & \\text{Juan Pablo Cordero} & \\text{Jorge Esteban Ramirez} \\\\\n",
    "& \\text{Javier Matrínez del Campo} &\n",
    "\\end{array}\n",
    "\\end{equation*}"
   ]
  },
  {
   "cell_type": "markdown",
   "metadata": {},
   "source": [
    "# Objetivo\n",
    "El objetivo del siguiente reporte es encontrar relaciones entre los diversos actores que aparecen en los *Pandora Papers*. La intención es mostrar redes de corrupción y fallas en las normas de transparencia y justicia fiscal. Para ello, llevaremos a cabo un análisis exploratorio de una base de datos creada por el ICIJ en Neo4j a partir de los documentos previamente mencionados."
   ]
  },
  {
   "cell_type": "markdown",
   "metadata": {},
   "source": [
    "# Introducción\n",
    "Los *Pandora Papers* filtrados por el Consorcio Internacional de Periodistas de Investigación (ICIJ) representan una de las filtraciones más grandes y reveladoras de datos financieros en la historia, exponiendo un universo oculto de riqueza, evasión fiscal y secretos financieros a nivel global. Este reportaje busca desentrañar las complejas redes de compañías offshore y los esquemas utilizados por políticos, magnates y celebridades para ocultar sus activos. A través de un análisis exhaustivo de la base de datos creada por ICIJ, exploraremos las implicaciones éticas, legales y económicas de estas prácticas en diversas jurisdicciones."
   ]
  },
  {
   "cell_type": "markdown",
   "metadata": {},
   "source": [
    "# Desarrollo\n",
    "## Instalación de la base de datos"
   ]
  },
  {
   "cell_type": "markdown",
   "metadata": {},
   "source": [
    "El primer paso fue conectarnos a la base de datos y cargar toda su información."
   ]
  },
  {
   "cell_type": "code",
   "execution_count": 1,
   "metadata": {
    "execution": {
     "iopub.execute_input": "2024-05-17T00:45:35.699382Z",
     "iopub.status.busy": "2024-05-17T00:45:35.699028Z",
     "iopub.status.idle": "2024-05-17T00:45:36.157703Z",
     "shell.execute_reply": "2024-05-17T00:45:36.156056Z"
    }
   },
   "outputs": [],
   "source": [
    "from py2neo import Graph\n",
    "\n",
    "# Conexión usando el nombre del servicio Docker\n",
    "url = \"bolt://neo4j:7687\"  # Cambiado de localhost a neo4j\n",
    "username = \"neo4j\"  # Usa el nombre de usuario correcto si la autenticación está habilitada\n",
    "password = \"Neo4jneo4j\"  # Usa la contraseña correcta si la autenticación está habilitada\n",
    "graph = Graph(url, auth=(username, password))"
   ]
  },
  {
   "cell_type": "code",
   "execution_count": 2,
   "metadata": {
    "execution": {
     "iopub.execute_input": "2024-05-17T00:45:36.161629Z",
     "iopub.status.busy": "2024-05-17T00:45:36.161326Z",
     "iopub.status.idle": "2024-05-17T00:45:43.307817Z",
     "shell.execute_reply": "2024-05-17T00:45:43.306593Z"
    }
   },
   "outputs": [
    {
     "name": "stdout",
     "output_type": "stream",
     "text": [
      "[{'count(*)': 343}]\n"
     ]
    }
   ],
   "source": [
    "import_cmd = \"\"\"\n",
    "CALL apoc.load.jsonArray(\"https://gist.githubusercontent.com/jexp/8afb65325bf99014c8de68a9511a549b/raw/pandora.json\") yield value\n",
    "WITH collect(value) as values\n",
    "UNWIND range(0, size(values)-1) as set\n",
    "WITH apoc.convert.toMap(values[set]) as value, set\n",
    "UNWIND value.nodes as n\n",
    "CALL apoc.merge.node(n.data.categories, {node_id: n.data.properties.node_id},n.data.properties) YIELD node\n",
    "SET node.id=set+\"-\"+n.id\n",
    "RETURN count(*);\n",
    "\"\"\"\n",
    "\n",
    "result = graph.run(import_cmd)\n",
    "print(result.data())"
   ]
  },
  {
   "cell_type": "code",
   "execution_count": 3,
   "metadata": {
    "execution": {
     "iopub.execute_input": "2024-05-17T00:45:43.357346Z",
     "iopub.status.busy": "2024-05-17T00:45:43.357033Z",
     "iopub.status.idle": "2024-05-17T00:45:48.147468Z",
     "shell.execute_reply": "2024-05-17T00:45:48.145896Z"
    }
   },
   "outputs": [
    {
     "name": "stdout",
     "output_type": "stream",
     "text": [
      "[{'count(*)': 267}]\n"
     ]
    }
   ],
   "source": [
    "import_cmd = \"\"\"\n",
    "CALL apoc.load.jsonArray(\"https://gist.githubusercontent.com/jexp/8afb65325bf99014c8de68a9511a549b/raw/pandora.json\") yield value\n",
    "WITH collect(value) as values\n",
    "UNWIND range(0, size(values)-1) as set\n",
    "WITH apoc.convert.toMap(values[set]) as value, set\n",
    "UNWIND value.edges as e\n",
    "MATCH (n) where n.id=set+\"-\"+e.source\n",
    "MATCH (m) where m.id=set+\"-\"+e.target\n",
    "CALL apoc.create.relationship(n, e.data.type, \n",
    "apoc.map.clean(e.data.properties,[\"edge_id\",\"power_player_profile_id\"],[]) ,m) yield rel\n",
    "RETURN count(*);\n",
    "\"\"\"\n",
    "\n",
    "result = graph.run(import_cmd)\n",
    "print(result.data())"
   ]
  },
  {
   "cell_type": "code",
   "execution_count": 4,
   "metadata": {
    "execution": {
     "iopub.execute_input": "2024-05-17T00:45:48.154260Z",
     "iopub.status.busy": "2024-05-17T00:45:48.153884Z",
     "iopub.status.idle": "2024-05-17T00:45:48.427666Z",
     "shell.execute_reply": "2024-05-17T00:45:48.426680Z"
    }
   },
   "outputs": [
    {
     "name": "stdout",
     "output_type": "stream",
     "text": [
      "[{'count(*)': 1}]\n"
     ]
    }
   ],
   "source": [
    "import_cmd = \"\"\"\n",
    "MATCH (e:Entity)\n",
    "WITH e.name as name, collect(e) as nodes\n",
    "WHERE size(nodes) > 1\n",
    "CALL apoc.refactor.mergeNodes(nodes, {properties:\"discard\", mergeRels:true}) YIELD node return count(*);\n",
    "\"\"\"\n",
    "\n",
    "result = graph.run(import_cmd)\n",
    "print(result.data())"
   ]
  },
  {
   "cell_type": "code",
   "execution_count": 5,
   "metadata": {
    "execution": {
     "iopub.execute_input": "2024-05-17T00:45:48.432308Z",
     "iopub.status.busy": "2024-05-17T00:45:48.431709Z",
     "iopub.status.idle": "2024-05-17T00:45:48.953179Z",
     "shell.execute_reply": "2024-05-17T00:45:48.948567Z"
    }
   },
   "outputs": [
    {
     "name": "stdout",
     "output_type": "stream",
     "text": [
      "[]\n"
     ]
    }
   ],
   "source": [
    "import_cmd = \"\"\"\n",
    "MATCH (n:Entity)\n",
    "MERGE (c:Country {name: coalesce(n.jurisdiction,\"UNKNOWN\")})\n",
    "MERGE (n)-[:RESIDES_IN]->(c);\n",
    "\"\"\"\n",
    "\n",
    "result = graph.run(import_cmd)\n",
    "print(result.data())"
   ]
  },
  {
   "cell_type": "code",
   "execution_count": 6,
   "metadata": {
    "execution": {
     "iopub.execute_input": "2024-05-17T00:45:48.959608Z",
     "iopub.status.busy": "2024-05-17T00:45:48.958997Z",
     "iopub.status.idle": "2024-05-17T00:45:49.153899Z",
     "shell.execute_reply": "2024-05-17T00:45:49.151067Z"
    }
   },
   "outputs": [
    {
     "name": "stdout",
     "output_type": "stream",
     "text": [
      "[]\n"
     ]
    }
   ],
   "source": [
    "import_cmd = \"\"\"\n",
    "MATCH (o:Officer)\n",
    "MERGE (c:Country {name: coalesce(o.country, \"UNKNOWN\")})\n",
    "MERGE (o)-[:CITIZEN_OF]->(c);\n",
    "\"\"\"\n",
    "\n",
    "result = graph.run(import_cmd)\n",
    "print(result.data())"
   ]
  },
  {
   "cell_type": "code",
   "execution_count": 7,
   "metadata": {
    "execution": {
     "iopub.execute_input": "2024-05-17T00:45:49.159078Z",
     "iopub.status.busy": "2024-05-17T00:45:49.158394Z",
     "iopub.status.idle": "2024-05-17T00:45:49.358222Z",
     "shell.execute_reply": "2024-05-17T00:45:49.356879Z"
    }
   },
   "outputs": [
    {
     "name": "stdout",
     "output_type": "stream",
     "text": [
      "[]\n"
     ]
    }
   ],
   "source": [
    "import_cmd = \"\"\"\n",
    "MATCH (n:Entity)\n",
    "MERGE (p:Provider {name: coalesce(n.provider,\"UNKNOWN\")})\n",
    "MERGE (n)-[:PROVIDED_BY]->(p);\n",
    "\"\"\"\n",
    "\n",
    "result = graph.run(import_cmd)\n",
    "print(result.data())"
   ]
  },
  {
   "cell_type": "markdown",
   "metadata": {},
   "source": [
    "## Análisis"
   ]
  },
  {
   "cell_type": "markdown",
   "metadata": {},
   "source": [
    "El primer paso de nuestro análisis fue identificar en qué país se concentra mayor parte de las empresas fantasma. Esto nos podría indicar fallas en la legislación fiscal de dicha nación."
   ]
  },
  {
   "cell_type": "code",
   "execution_count": 8,
   "metadata": {
    "execution": {
     "iopub.execute_input": "2024-05-17T00:45:49.364567Z",
     "iopub.status.busy": "2024-05-17T00:45:49.363274Z",
     "iopub.status.idle": "2024-05-17T00:45:49.629610Z",
     "shell.execute_reply": "2024-05-17T00:45:49.627981Z"
    }
   },
   "outputs": [
    {
     "data": {
      "text/html": [
       "<table><tr><th>EntityCountry</th><th>NumberOfEntities</th></tr><tr><td style=\"text-align:left\">British Virgin Islands</td><td style=\"text-align:right\">180</td></tr><tr><td style=\"text-align:left\">Panama</td><td style=\"text-align:right\">38</td></tr><tr><td style=\"text-align:left\">Seychelles</td><td style=\"text-align:right\">4</td></tr></table>"
      ],
      "text/plain": [
       " EntityCountry          | NumberOfEntities \n",
       "------------------------|------------------\n",
       " British Virgin Islands |              180 \n",
       " Panama                 |               38 \n",
       " Seychelles             |                4 "
      ]
     },
     "execution_count": 8,
     "metadata": {},
     "output_type": "execute_result"
    }
   ],
   "source": [
    "import_cmd = \"\"\"\n",
    "MATCH (e:Entity)--(c2:Country)\n",
    "WITH c2.name AS EntityCountry, COUNT(DISTINCT e) AS NumberOfEntities\n",
    "RETURN EntityCountry, NumberOfEntities\n",
    "ORDER BY NumberOfEntities DESC;\n",
    "\"\"\"\n",
    "\n",
    "result = graph.run(import_cmd)\n",
    "result"
   ]
  },
  {
   "cell_type": "markdown",
   "metadata": {},
   "source": [
    "Ejecutando esta consulta, podemos observar que British Virgin Islands es el territorio con mayor número de empresas fantasmas. Cuenta con 180, 142 más que el país siguiente. Por esto, decidimos concentrarnos en explorar su legislación.\n",
    "\n",
    "Las Islas Vírgenes Británicas son un destino popular para la creación de empresas offshore con el objetivo de ocultar activos y evadir impuestos. Sus ventajas incluyen beneficios fiscales, un alto nivel de confidencialidad, servicios financieros desarrollados, estabilidad política y financiera. Además, las empresas registradas en BVI que no realizan operaciones comerciales dentro del territorio están exentas de impuestos sobre ganancias de capital, impuesto sobre la renta, entre otros.\n",
    "\n",
    "La ausencia de retenciones en BVI es el principal incentivo para que líderes mundiales y empresarios establezcan sus empresas allí. No hay impuestos sobre el pago de dividendos, lo que hace que las distribuciones de beneficios sean menos costosas que en otros países. Además, los nombres de los beneficiarios, directores y accionistas no aparecen en registros públicos debido a la legislación vigente.\n",
    "\n",
    "Nos enfocamos exclusivamente en las empresas que operan bajo esta deficiente legislación fiscal, con la intención de encontrar relaciones entre las distintas figuras públicas. Buscamos determinar si existen empresas con más de un dueño reconocido."
   ]
  },
  {
   "cell_type": "code",
   "execution_count": 9,
   "metadata": {
    "execution": {
     "iopub.execute_input": "2024-05-17T00:45:49.638792Z",
     "iopub.status.busy": "2024-05-17T00:45:49.637410Z",
     "iopub.status.idle": "2024-05-17T00:45:50.028536Z",
     "shell.execute_reply": "2024-05-17T00:45:50.027053Z"
    }
   },
   "outputs": [
    {
     "name": "stdout",
     "output_type": "stream",
     "text": [
      "'Luntrel Investments Limited '\t'British Virgin Islands'\t4\n",
      "'Milrun International Limited'\t'British Virgin Islands'\t2\n",
      "'Birtan Ltd.'\t'British Virgin Islands'\t2\n",
      "'Albatros Investing Ltd.'\t'British Virgin Islands'\t2\n",
      "'Barlock Investments Limited'\t'British Virgin Islands'\t2\n",
      "'Wesmar Finance Limited'\t'British Virgin Islands'\t2\n",
      "'Milestars Invest Ltd.'\t'British Virgin Islands'\t2\n",
      "'ROMANSTONE INTERNATIONAL LIMITED'\t'British Virgin Islands'\t2\n",
      "'International Consultants in Economic and Social Research Inc'\t'British Virgin Islands'\t2\n"
     ]
    }
   ],
   "source": [
    "import_cmd = \"\"\"\n",
    "MATCH (o:Officer)-->(e:Entity)-->(c:Country)\n",
    "WITH e, c, COUNT(DISTINCT o) AS numOfficers\n",
    "WHERE c.name = \"British Virgin Islands\" AND numOfficers > 1\n",
    "RETURN e.name AS EntityName, c.name AS EntityCountry, numOfficers\n",
    "ORDER BY numOfficers DESC;\n",
    "\"\"\"\n",
    "result = graph.run(import_cmd)\n",
    "for record in result:\n",
    "    print(record)"
   ]
  },
  {
   "cell_type": "markdown",
   "metadata": {},
   "source": [
    "Al ejecutar esta consulta, notamos que existen nueve empresas con más de un involucrado. Tras descubrir esto, quisimos investigar vínculos internacionales. Específicamente, diseñamos una consulta para encontrar empresas vinculadas con más de una persona, y que los involucrados fueran de diferentes países. Explorando la base descartamos esta posibilidad. Por esto, no exploramos redes internacionales."
   ]
  },
  {
   "cell_type": "code",
   "execution_count": 10,
   "metadata": {
    "execution": {
     "iopub.execute_input": "2024-05-17T00:45:50.032501Z",
     "iopub.status.busy": "2024-05-17T00:45:50.032092Z",
     "iopub.status.idle": "2024-05-17T00:45:50.428982Z",
     "shell.execute_reply": "2024-05-17T00:45:50.427064Z"
    }
   },
   "outputs": [
    {
     "data": {
      "text/html": [
       "(No data)"
      ],
      "text/plain": [
       "(No data)"
      ]
     },
     "execution_count": 10,
     "metadata": {},
     "output_type": "execute_result"
    }
   ],
   "source": [
    "import_cmd = \"\"\"\n",
    "MATCH (c2:Country)<--(o:Officer)-->(e:Entity)-->(c:Country)\n",
    "WHERE c.name = \"British Virgin Islands\"\n",
    "WITH e, c, Count(DISTINCT c2.name) AS OfficerCountries\n",
    "WHERE OfficerCountries > 1\n",
    "RETURN e.name AS EntityName, c.name AS EntityCountry, OfficerCountries\n",
    "ORDER BY OfficerCountries DESC;\n",
    "\n",
    "\"\"\"\n",
    "\n",
    "result = graph.run(import_cmd)\n",
    "result"
   ]
  },
  {
   "cell_type": "markdown",
   "metadata": {},
   "source": [
    "Una vez que sabemos que para cada empresa, todos los asociados son del mismo país, queremos explorar las relaciones entre ellos. Buscamos las empresas con mayor cantidad de dueños, con la intención de encontrar redes de empresarios y políticos relacionados. Filtramos sólo las cinco empresas con más agentes vinculados, y descubrimos que tres de ellas estaban conectadas con figuras públicas panameñas."
   ]
  },
  {
   "cell_type": "code",
   "execution_count": 11,
   "metadata": {
    "execution": {
     "iopub.execute_input": "2024-05-17T00:45:50.434913Z",
     "iopub.status.busy": "2024-05-17T00:45:50.433913Z",
     "iopub.status.idle": "2024-05-17T00:45:50.836587Z",
     "shell.execute_reply": "2024-05-17T00:45:50.834893Z"
    }
   },
   "outputs": [
    {
     "data": {
      "text/html": [
       "<table><tr><th>EntityName</th><th>EntityCountry</th><th>c2.name</th><th>numOfficers</th></tr><tr><td style=\"text-align:left\">Luntrel Investments Limited </td><td style=\"text-align:left\">British Virgin Islands</td><td style=\"text-align:left\">Panama</td><td style=\"text-align:right\">4</td></tr><tr><td style=\"text-align:left\">Albatros Investing Ltd.</td><td style=\"text-align:left\">British Virgin Islands</td><td style=\"text-align:left\">Panama</td><td style=\"text-align:right\">2</td></tr><tr><td style=\"text-align:left\">Barlock Investments Limited</td><td style=\"text-align:left\">British Virgin Islands</td><td style=\"text-align:left\">Panama</td><td style=\"text-align:right\">2</td></tr></table>"
      ],
      "text/plain": [
       " EntityName                   | EntityCountry          | c2.name | numOfficers \n",
       "------------------------------|------------------------|---------|-------------\n",
       " Luntrel Investments Limited  | British Virgin Islands | Panama  |           4 \n",
       " Albatros Investing Ltd.      | British Virgin Islands | Panama  |           2 \n",
       " Barlock Investments Limited  | British Virgin Islands | Panama  |           2 "
      ]
     },
     "execution_count": 11,
     "metadata": {},
     "output_type": "execute_result"
    }
   ],
   "source": [
    "import_cmd = \"\"\"\n",
    "MATCH (c2:Country)<--(o:Officer)-->(e:Entity)-->(c:Country)\n",
    "WITH e, c,c2, COUNT(DISTINCT o) AS numOfficers\n",
    "WHERE c.name = \"British Virgin Islands\" AND numOfficers > 1\n",
    "RETURN e.name AS EntityName, c.name AS EntityCountry, c2.name, numOfficers\n",
    "ORDER BY numOfficers DESC\n",
    "LIMIT 5;\n",
    "\"\"\"\n",
    "result = graph.run(import_cmd)\n",
    "result"
   ]
  },
  {
   "cell_type": "markdown",
   "metadata": {},
   "source": [
    "Nos preguntamos si esto era casualidad, sin embargo, al hacer un análisis más general, Panamá resultó ser el país de origen con mayor número de empresarios relacionados a empresas fantasmas mundialmente."
   ]
  },
  {
   "cell_type": "code",
   "execution_count": 12,
   "metadata": {
    "execution": {
     "iopub.execute_input": "2024-05-17T00:45:50.842530Z",
     "iopub.status.busy": "2024-05-17T00:45:50.841658Z",
     "iopub.status.idle": "2024-05-17T00:45:51.227724Z",
     "shell.execute_reply": "2024-05-17T00:45:51.225722Z"
    }
   },
   "outputs": [
    {
     "data": {
      "text/html": [
       "<table><tr><th>country</th><th>total_officers</th></tr><tr><td style=\"text-align:left\">Panama</td><td style=\"text-align:right\">9</td></tr><tr><td style=\"text-align:left\">Kenya</td><td style=\"text-align:right\">6</td></tr><tr><td style=\"text-align:left\">Sri Lanka</td><td style=\"text-align:right\">4</td></tr></table>"
      ],
      "text/plain": [
       " country   | total_officers \n",
       "-----------|----------------\n",
       " Panama    |              9 \n",
       " Kenya     |              6 \n",
       " Sri Lanka |              4 "
      ]
     },
     "execution_count": 12,
     "metadata": {},
     "output_type": "execute_result"
    }
   ],
   "source": [
    "import_cmd = \"\"\"\n",
    "MATCH (country:Country)\n",
    "OPTIONAL MATCH (officer:Officer)-[c:CITIZEN_OF]->(country)\n",
    "OPTIONAL MATCH (officer:Officer)-[r:RESIDES_IN]->(country)\n",
    "WITH country, count(c) + count(r) AS total_officers\n",
    "RETURN country.name AS country, total_officers\n",
    "ORDER BY total_officers DESC;\n",
    "\"\"\"\n",
    "result = graph.run(import_cmd)\n",
    "result"
   ]
  },
  {
   "cell_type": "markdown",
   "metadata": {},
   "source": [
    "Retomando el análisis de empresas en las British Virgin Islands, nos concentraremos en los dueños panameños de las empresas previamente mencionadas.\n"
   ]
  },
  {
   "cell_type": "code",
   "execution_count": 13,
   "metadata": {
    "execution": {
     "iopub.execute_input": "2024-05-17T00:45:51.234256Z",
     "iopub.status.busy": "2024-05-17T00:45:51.233156Z",
     "iopub.status.idle": "2024-05-17T00:45:51.404091Z",
     "shell.execute_reply": "2024-05-17T00:45:51.402782Z"
    }
   },
   "outputs": [
    {
     "data": {
      "text/html": [
       "<table><tr><th>o.name</th></tr><tr><td style=\"text-align:left\">María Enriqueta Pérez Balladares de Iglesias</td></tr><tr><td style=\"text-align:left\">Dora María Pérez Balladares Boyd </td></tr><tr><td style=\"text-align:left\">Ernesto Pérez Balladares</td></tr></table>"
      ],
      "text/plain": [
       " o.name                                       \n",
       "----------------------------------------------\n",
       " María Enriqueta Pérez Balladares de Iglesias \n",
       " Dora María Pérez Balladares Boyd             \n",
       " Ernesto Pérez Balladares                     "
      ]
     },
     "execution_count": 13,
     "metadata": {},
     "output_type": "execute_result"
    }
   ],
   "source": [
    "import_cmd = \"\"\"\n",
    "MATCH (c1:Country)<--(o:Officer)-->(e:Entity)\n",
    "WHERE e.name = \"Luntrel Investments Limited \"\n",
    "RETURN o.name\n",
    "\"\"\"\n",
    "result = graph.run(import_cmd)\n",
    "result"
   ]
  },
  {
   "cell_type": "code",
   "execution_count": 14,
   "metadata": {
    "execution": {
     "iopub.execute_input": "2024-05-17T00:45:51.408329Z",
     "iopub.status.busy": "2024-05-17T00:45:51.407664Z",
     "iopub.status.idle": "2024-05-17T00:45:51.463442Z",
     "shell.execute_reply": "2024-05-17T00:45:51.461734Z"
    }
   },
   "outputs": [
    {
     "data": {
      "text/html": [
       "<table><tr><th>o.name</th></tr><tr><td style=\"text-align:left\">Ricardo Alberto Martinelli Linares</td></tr><tr><td style=\"text-align:left\">Luis Enrique Martinelli Linares</td></tr><tr><td style=\"text-align:left\">Luis Enrique Martinelli Linares</td></tr></table>"
      ],
      "text/plain": [
       " o.name                             \n",
       "------------------------------------\n",
       " Ricardo Alberto Martinelli Linares \n",
       " Luis Enrique Martinelli Linares    \n",
       " Luis Enrique Martinelli Linares    "
      ]
     },
     "execution_count": 14,
     "metadata": {},
     "output_type": "execute_result"
    }
   ],
   "source": [
    "import_cmd = \"\"\"\n",
    "MATCH (c1:Country)<--(o:Officer)-->(e:Entity)\n",
    "WHERE e.name = \"Albatros Investing Ltd.\"\n",
    "RETURN o.name\n",
    "\"\"\"\n",
    "result = graph.run(import_cmd)\n",
    "result"
   ]
  },
  {
   "cell_type": "code",
   "execution_count": 15,
   "metadata": {
    "execution": {
     "iopub.execute_input": "2024-05-17T00:45:51.467900Z",
     "iopub.status.busy": "2024-05-17T00:45:51.467268Z",
     "iopub.status.idle": "2024-05-17T00:45:51.509377Z",
     "shell.execute_reply": "2024-05-17T00:45:51.508279Z"
    }
   },
   "outputs": [
    {
     "data": {
      "text/html": [
       "<table><tr><th>o.name</th></tr><tr><td style=\"text-align:left\">Luis Enrique Martinelli Linares</td></tr><tr><td style=\"text-align:left\">Ricardo Alberto Martinelli Linares</td></tr><tr><td style=\"text-align:left\">Luis Enrique Martinelli Linares</td></tr></table>"
      ],
      "text/plain": [
       " o.name                             \n",
       "------------------------------------\n",
       " Luis Enrique Martinelli Linares    \n",
       " Ricardo Alberto Martinelli Linares \n",
       " Luis Enrique Martinelli Linares    "
      ]
     },
     "execution_count": 15,
     "metadata": {},
     "output_type": "execute_result"
    }
   ],
   "source": [
    "import_cmd = \"\"\"\n",
    "MATCH (c1:Country)<--(o:Officer)-->(e:Entity)\n",
    "WHERE e.name = \"Milestars Invest Ltd.\"\n",
    "RETURN o.name\n",
    "\"\"\"\n",
    "result = graph.run(import_cmd)\n",
    "result"
   ]
  },
  {
   "cell_type": "markdown",
   "metadata": {},
   "source": [
    "Si bien en las 3 empresas  encontramos nombres que podríamos vincular en diversos asuntos de relevancia sociopolítica y económica, Luntrel Investment Limited destaca, pues se aprecia que los miembros que componen su estructura comparten apellido. Profundizaremos sobre este asunto. "
   ]
  },
  {
   "cell_type": "code",
   "execution_count": 16,
   "metadata": {
    "execution": {
     "iopub.execute_input": "2024-05-17T00:45:51.515441Z",
     "iopub.status.busy": "2024-05-17T00:45:51.513737Z",
     "iopub.status.idle": "2024-05-17T00:45:51.629405Z",
     "shell.execute_reply": "2024-05-17T00:45:51.627731Z"
    }
   },
   "outputs": [
    {
     "name": "stdout",
     "output_type": "stream",
     "text": [
      "'Berkland Investments Ltd'\n",
      "'Barlock Investments Limited'\n",
      "'Luntrel Investments Limited '\n",
      "'Bradeton Investments Limited'\n"
     ]
    }
   ],
   "source": [
    "import_cmd = \"\"\"\n",
    "MATCH (o:Officer)-->(e:Entity)\n",
    "WHERE toLower(o.name) CONTAINS 'balladares'\n",
    "RETURN distinct(e.name);\n",
    "\"\"\"\n",
    "result = graph.run(import_cmd)\n",
    "for record in result:\n",
    "    print(record)"
   ]
  },
  {
   "cell_type": "markdown",
   "metadata": {},
   "source": [
    "En total, son 4 las empresas vinculadas con este apellido, dispersas por el mundo. Si bien esto es un comportamiento sospechoso y del cual podríamos inferir la existencia de movimientos ilícitos, conviene hacer una investigación más profunda tanto de la familia, así como de estas empresas, y a partir de esto hacer las asociaciones relevantes. "
   ]
  },
  {
   "cell_type": "markdown",
   "metadata": {},
   "source": [
    "### Familia Pérez Balladares"
   ]
  },
  {
   "cell_type": "markdown",
   "metadata": {},
   "source": [
    "La familia Pérez Balladares es una de las más destacadas en Panamá, conocida por su influencia en el ámbito político y económico del país. Sin embargo, también ha estado involucrada en múltiples controversias, especialmente relacionadas con el uso de estructuras financieras offshore, como lo revelaron los Pandora Papers."
   ]
  },
  {
   "cell_type": "markdown",
   "metadata": {},
   "source": [
    "### Ernesto Pérez Balladares"
   ]
  },
  {
   "cell_type": "markdown",
   "metadata": {},
   "source": [
    "Ernesto Pérez Balladares fue presidente de Panamá entre 1994 y 1999. Durante su presidencia, implementó una serie de reformas económicas, incluyendo la privatización de empresas estatales y la promoción de políticas de libre mercado. No obstante, su mandato estuvo marcado por acusaciones de corrupción y, posteriormente, enfrentó múltiples investigaciones. Según los Pandora Papers, utilizó empresas offshore para gestionar su riqueza y evitar impuestos. Estas entidades financieras, establecidas en paraísos fiscales, plantean serias dudas sobre la legalidad y ética de sus acciones financieras. Tanto durante como después de su mandato, estas estructuras fueron utilizadas para mantener y mover sus activos fuera del escrutinio público."
   ]
  },
  {
   "cell_type": "markdown",
   "metadata": {},
   "source": [
    "### Dora María Pérez Balladares Boyd"
   ]
  },
  {
   "cell_type": "markdown",
   "metadata": {},
   "source": [
    "Dora María Pérez Balladares Boyd, hermana de Ernesto, también ha sido implicada en actividades financieras offshore. De acuerdo con los Pandora Papers, es beneficiaria de varias entidades registradas en las Islas Vírgenes Británicas (BVI), incluyendo Ashlock International Limited y Barlock Investments Limited. Estas entidades se utilizaron para ocultar activos financieros, aprovechando las ventajas fiscales y la confidencialidad que ofrecen estas jurisdicciones."
   ]
  },
  {
   "cell_type": "markdown",
   "metadata": {},
   "source": [
    "### Isabella Pérez Balladares de Pretelt"
   ]
  },
  {
   "cell_type": "markdown",
   "metadata": {},
   "source": [
    "Isabella Pérez Balladares de Pretelt, hija de Ernesto Pérez Balladares, también está vinculada a actividades offshore. Es beneficiaria de Luntrel Investments Limited, una empresa registrada en las Islas Vírgenes Británicas. Su participación en estas estructuras refleja la continuidad de las prácticas de gestión de activos a través de paraísos fiscales entre las generaciones de la familia."
   ]
  },
  {
   "cell_type": "markdown",
   "metadata": {},
   "source": [
    "### María Enriqueta Pérez Balladares de Iglesias"
   ]
  },
  {
   "cell_type": "markdown",
   "metadata": {},
   "source": [
    "María Enriqueta Pérez Balladares de Iglesias, madre de Ernesto Pérez Balladares, es otro miembro prominente de la familia. También ha sido mencionada en relación con varias entidades offshore. Aunque los detalles específicos sobre sus actividades son limitados, su inclusión en los registros de los Pandora Papers sugiere una participación significativa en la gestión de la riqueza familiar a través de estas estructuras."
   ]
  },
  {
   "cell_type": "markdown",
   "metadata": {},
   "source": [
    "### La relación entre familias"
   ]
  },
  {
   "cell_type": "markdown",
   "metadata": {},
   "source": [
    "Las familias Martinelli Linares y Pérez Balladares son los protagonístas de este escándalo y tienen una relación significativa a través de los vínculos políticos y personales en Panamá. Ernesto Pérez Balladares fue presidente de Panamá de 1994 a 1999, y diez años después, Ricardo Martinelli llegó al mismo puesto, aunque representando al Partido Cambio Democrático (CD). Ambos personajes coincidieron antes de ser miembros del partido, ya que ambos trabajaron en la misma área de Citibank.\n",
    "\n",
    "En una entrevista para TVN, Pérez Balladares declaró que el exmandatario Ricardo Martinelli se dedicó durante su gobierno a hacer negocios para él y su familia. Esta declaración muestra que, a pesar de ya no ser presidente, Ernesto seguía siendo beneficiado por el poder político de Panamá.\n",
    "\n",
    "Estas relaciones ilustran la complejidad y la profundidad de la corrupción en la política panameña, y cómo influencias familiares pueden extenderse a lo largo de diferentes administraciones y sectors"
   ]
  },
  {
   "cell_type": "markdown",
   "metadata": {},
   "source": [
    "# Conclusión "
   ]
  },
  {
   "cell_type": "markdown",
   "metadata": {},
   "source": [
    "El análisis de los Pandora Papers reveló que políticos, empresarios y celebridades utilizan compañías offshore para ocultar activos y evadir impuestos. Panamá destaca como un centro importante de empresas fantasma, lo que resalta la necesidad de investigar las conexiones políticas en este país. La familia Pérez Balladares es un ejemplo de cómo se usan estructuras financieras offshore para gestionar la riqueza familiar, cuestionando la ética y legalidad de estas acciones.\n",
    "\n",
    "Las conexiones entre las familias Martinelli Linares y Pérez Balladares muestran cómo la influencia política y económica puede perpetuar la corrupción más allá de los mandatos presidenciales. Estos hallazgos subrayan la necesidad de reformas internacionales y una mayor supervisión fiscal para combatir estas prácticas y promover la transparencia.\n",
    "\n",
    "Un aspecto clave en la investigación fue el uso de Neo4j, un manejador de bases de datos orientadas a grafos. Estas bases de datos permitieron analizar de manera eficiente las relaciones entre empresas, lugares y personas involucradas, facilitando la identificación de patrones complejos. La capacidad de las bases de datos de grafos para visualizar y analizar conexiones fue crucial para entender la magnitud y el alcance de las redes de evasión fiscal y corrupción. Este es un gran ejemplo de la aplicación de bases de datos de grafos en investigaciones complejas, demostrando su potencial para revelar estructuras ocultas en grandes conjuntos de datos.\n",
    "\n",
    "Utilizando consultas de Neo4j hicimos un análisis exploratorio de la base. Comenzando con consultas generales, logramos obtener un panorama de la información. Así, encontramos patrones generales. Paulatinamente, profundizamos en las relaciones entre los distintos objetos, afinando nuestras consultas. Así, pudimos enfocar nuestra investigación, o que nos ayudó a descubrir insights valiosos.\n",
    "\n",
    "El estudio resalta la complejidad de la evasión fiscal y los retos globales para erradicar estas actividades, destacando la importancia de una cooperación internacional más estrecha y medidas estrictas para asegurar la justicia fiscal. Los Pandora Papers exponen la magnitud de la evasión fiscal y la corrupción, y enfatizan la urgencia de reformar las normas fiscales y fortalecer la supervisión internacional para lograr un sistema financiero más justo y transparente."
   ]
  },
  {
   "cell_type": "markdown",
   "metadata": {},
   "source": [
    "# Bibliografía"
   ]
  },
  {
   "cell_type": "markdown",
   "metadata": {},
   "source": [
    "* ICIJ. (2021). ``Ernesto Pérez Balladares''. Recuperado de \\url{https://projects.icij.org/investigations/pandora-papers/power-players/es/player/ernesto-perez-balladares#:~:text=URL\\%3A\\%20https\\%3A\\%2F\\%2Fprojects.icij.org\\%2Finvestigations\\%2Fpandora}\n",
    "\n",
    "* ICIJ. (2018). ``Dora Ma. Boyd de Perez Balladares''. Recuperado de \\url{https://offshoreleaks.icij.org/nodes/240053397}\n",
    "\n",
    "* ICIJ. (2018). ``Luntrel Investments Limited''. Recuperado de \\url{https://offshoreleaks.icij.org/nodes/240030531}\n",
    "\n",
    "* CIDOB. ``Ricardo Martinelli Berrocal''. Recuperado de \\url{https://www.cidob.org/biografias_lideres_politicos/america_central_y_caribe/panama/ricardo_martinelli_berrocal}\n",
    "\n",
    "* CIDOB. (2016). ``Ernesto Pérez Balladares''. Recuperado de \\url{https://www.cidob.org/ca/biografias_lideres_politicos/america_central_y_caribe/panama/ernesto_perez_balladares}\n"
   ]
  },
  {
   "cell_type": "code",
   "execution_count": 17,
   "metadata": {
    "execution": {
     "iopub.execute_input": "2024-05-17T00:45:51.638196Z",
     "iopub.status.busy": "2024-05-17T00:45:51.637196Z",
     "iopub.status.idle": "2024-05-17T00:46:02.476533Z",
     "shell.execute_reply": "2024-05-17T00:46:02.473809Z"
    }
   },
   "outputs": [
    {
     "name": "stdout",
     "output_type": "stream",
     "text": [
      "[NbConvertApp] Converting notebook Pandora_Papers.ipynb to pdf\r\n",
      "[NbConvertApp] Writing 86088 bytes to notebook.tex\r\n",
      "[NbConvertApp] Building PDF\r\n",
      "[NbConvertApp] Running xelatex 3 times: ['xelatex', 'notebook.tex', '-quiet']\r\n",
      "[NbConvertApp] Running bibtex 1 time: ['bibtex', 'notebook']\r\n",
      "[NbConvertApp] WARNING | bibtex had problems, most likely because there were no citations\r\n",
      "[NbConvertApp] PDF successfully created\r\n",
      "[NbConvertApp] Writing 83254 bytes to Pandora_Papers.pdf\r\n"
     ]
    }
   ],
   "source": [
    "!jupyter nbconvert --to pdf \"Pandora_Papers.ipynb\""
   ]
  },
  {
   "cell_type": "code",
   "execution_count": null,
   "metadata": {},
   "outputs": [],
   "source": []
  }
 ],
 "metadata": {
  "kernelspec": {
   "display_name": "Python 3 (ipykernel)",
   "language": "python",
   "name": "python3"
  },
  "language_info": {
   "codemirror_mode": {
    "name": "ipython",
    "version": 3
   },
   "file_extension": ".py",
   "mimetype": "text/x-python",
   "name": "python",
   "nbconvert_exporter": "python",
   "pygments_lexer": "ipython3",
   "version": "3.11.6"
  }
 },
 "nbformat": 4,
 "nbformat_minor": 4
}
