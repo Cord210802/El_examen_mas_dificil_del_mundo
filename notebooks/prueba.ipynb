{
 "cells": [
  {
   "cell_type": "code",
   "execution_count": 1,
   "metadata": {
    "execution": {
     "iopub.execute_input": "2024-05-16T23:46:10.051936Z",
     "iopub.status.busy": "2024-05-16T23:46:10.051637Z",
     "iopub.status.idle": "2024-05-16T23:46:17.690409Z",
     "shell.execute_reply": "2024-05-16T23:46:17.687743Z"
    }
   },
   "outputs": [
    {
     "name": "stdout",
     "output_type": "stream",
     "text": [
      "Collecting py2neo\r\n",
      "  Downloading py2neo-2021.2.4-py2.py3-none-any.whl.metadata (9.9 kB)\r\n",
      "Requirement already satisfied: certifi in /opt/conda/lib/python3.11/site-packages (from py2neo) (2023.7.22)\r\n",
      "Collecting interchange~=2021.0.4 (from py2neo)\r\n",
      "  Downloading interchange-2021.0.4-py2.py3-none-any.whl.metadata (1.9 kB)\r\n",
      "Collecting monotonic (from py2neo)\r\n",
      "  Downloading monotonic-1.6-py2.py3-none-any.whl.metadata (1.5 kB)\r\n",
      "Requirement already satisfied: packaging in /opt/conda/lib/python3.11/site-packages (from py2neo) (23.2)\r\n",
      "Collecting pansi>=2020.7.3 (from py2neo)\r\n",
      "  Downloading pansi-2020.7.3-py2.py3-none-any.whl.metadata (6.0 kB)\r\n",
      "Requirement already satisfied: pygments>=2.0.0 in /opt/conda/lib/python3.11/site-packages (from py2neo) (2.16.1)\r\n",
      "Requirement already satisfied: six>=1.15.0 in /opt/conda/lib/python3.11/site-packages (from py2neo) (1.16.0)\r\n",
      "Requirement already satisfied: urllib3 in /opt/conda/lib/python3.11/site-packages (from py2neo) (2.0.7)\r\n",
      "Requirement already satisfied: pytz in /opt/conda/lib/python3.11/site-packages (from interchange~=2021.0.4->py2neo) (2023.3.post1)\r\n",
      "Downloading py2neo-2021.2.4-py2.py3-none-any.whl (177 kB)\r\n",
      "\u001b[2K   \u001b[90m━━━━━━━━━━━━━━━━━━━━━━━━━━━━━━━━━━━━━━━━\u001b[0m \u001b[32m177.2/177.2 kB\u001b[0m \u001b[31m1.4 MB/s\u001b[0m eta \u001b[36m0:00:00\u001b[0m\r\n",
      "\u001b[?25hDownloading interchange-2021.0.4-py2.py3-none-any.whl (28 kB)\r\n",
      "Downloading pansi-2020.7.3-py2.py3-none-any.whl (10 kB)\r\n",
      "Downloading monotonic-1.6-py2.py3-none-any.whl (8.2 kB)\r\n",
      "Installing collected packages: monotonic, pansi, interchange, py2neo\r\n",
      "Successfully installed interchange-2021.0.4 monotonic-1.6 pansi-2020.7.3 py2neo-2021.2.4\r\n"
     ]
    }
   ],
   "source": [
    "!pip install py2neo"
   ]
  },
  {
   "cell_type": "code",
   "execution_count": 2,
   "metadata": {
    "execution": {
     "iopub.execute_input": "2024-05-16T23:46:17.695730Z",
     "iopub.status.busy": "2024-05-16T23:46:17.695044Z",
     "iopub.status.idle": "2024-05-16T23:46:18.234147Z",
     "shell.execute_reply": "2024-05-16T23:46:18.232744Z"
    }
   },
   "outputs": [],
   "source": [
    "from py2neo import Graph\n",
    "\n",
    "# Conexión usando el nombre del servicio Docker\n",
    "url = \"bolt://neo4j:7687\"  # Cambiado de localhost a neo4j\n",
    "username = \"neo4j\"  # Usa el nombre de usuario correcto si la autenticación está habilitada\n",
    "password = \"Neo4jneo4j\"  # Usa la contraseña correcta si la autenticación está habilitada\n",
    "graph = Graph(url, auth=(username, password))"
   ]
  },
  {
   "cell_type": "code",
   "execution_count": 3,
   "metadata": {
    "execution": {
     "iopub.execute_input": "2024-05-16T23:46:18.242336Z",
     "iopub.status.busy": "2024-05-16T23:46:18.241209Z",
     "iopub.status.idle": "2024-05-16T23:46:26.590735Z",
     "shell.execute_reply": "2024-05-16T23:46:26.589378Z"
    }
   },
   "outputs": [
    {
     "name": "stdout",
     "output_type": "stream",
     "text": [
      "[{'count(*)': 343}]\n"
     ]
    }
   ],
   "source": [
    "import_cmd = \"\"\"\n",
    "CALL apoc.load.jsonArray(\"https://gist.githubusercontent.com/jexp/8afb65325bf99014c8de68a9511a549b/raw/pandora.json\") yield value\n",
    "WITH collect(value) as values\n",
    "UNWIND range(0, size(values)-1) as set\n",
    "WITH apoc.convert.toMap(values[set]) as value, set\n",
    "UNWIND value.nodes as n\n",
    "CALL apoc.merge.node(n.data.categories, {node_id: n.data.properties.node_id},n.data.properties) YIELD node\n",
    "SET node.id=set+\"-\"+n.id\n",
    "RETURN count(*);\n",
    "\"\"\"\n",
    "\n",
    "result = graph.run(import_cmd)\n",
    "print(result.data())"
   ]
  },
  {
   "cell_type": "code",
   "execution_count": 4,
   "metadata": {
    "execution": {
     "iopub.execute_input": "2024-05-16T23:46:26.596034Z",
     "iopub.status.busy": "2024-05-16T23:46:26.595136Z",
     "iopub.status.idle": "2024-05-16T23:46:37.265549Z",
     "shell.execute_reply": "2024-05-16T23:46:37.263503Z"
    }
   },
   "outputs": [
    {
     "name": "stdout",
     "output_type": "stream",
     "text": [
      "[NbConvertApp] Converting notebook prueba.ipynb to pdf\r\n",
      "[NbConvertApp] Writing 22394 bytes to notebook.tex\r\n",
      "[NbConvertApp] Building PDF\r\n",
      "[NbConvertApp] Running xelatex 3 times: ['xelatex', 'notebook.tex', '-quiet']\r\n",
      "[NbConvertApp] Running bibtex 1 time: ['bibtex', 'notebook']\r\n",
      "[NbConvertApp] WARNING | bibtex had problems, most likely because there were no citations\r\n",
      "[NbConvertApp] PDF successfully created\r\n",
      "[NbConvertApp] Writing 23128 bytes to prueba.pdf\r\n"
     ]
    }
   ],
   "source": [
    "!jupyter nbconvert --to pdf \"prueba.ipynb\""
   ]
  }
 ],
 "metadata": {
  "kernelspec": {
   "display_name": "Python 3 (ipykernel)",
   "language": "python",
   "name": "python3"
  },
  "language_info": {
   "codemirror_mode": {
    "name": "ipython",
    "version": 3
   },
   "file_extension": ".py",
   "mimetype": "text/x-python",
   "name": "python",
   "nbconvert_exporter": "python",
   "pygments_lexer": "ipython3",
   "version": "3.11.6"
  }
 },
 "nbformat": 4,
 "nbformat_minor": 4
}
